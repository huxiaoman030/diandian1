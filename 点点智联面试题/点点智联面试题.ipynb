{
 "cells": [
  {
   "cell_type": "markdown",
   "id": "b560cfe2",
   "metadata": {},
   "source": [
    "# 一丶概念论述"
   ]
  },
  {
   "cell_type": "markdown",
   "id": "a3278f97",
   "metadata": {asd},
   "source": [
    "## 1.什么是python？平时在哪里学习python?"
   ]
  },
  {
   "cell_type": "code",
   "execution_count": null,
   "id": "559079b2",
   "metadata": {},
   "outputs": [],
   "source": []
  },
  {
   "cell_type": "markdown",
   "id": "040f4c30",
   "metadata": {},
   "source": [
    "## 2.PEP8规范"
   ]
  },
  {
   "cell_type": "code",
   "execution_count": null,
   "id": "18b17871",
   "metadata": {},
   "outputs": [],
   "source": []
  },
  {
   "cell_type": "markdown",
   "id": "d951cfb8",
   "metadata": {},
   "source": [
    "## 3.Ascii,Unicode,utf-8,gbk区别"
   ]
  },
  {
   "cell_type": "code",
   "execution_count": null,
   "id": "4a0802d3",
   "metadata": {},
   "outputs": [],
   "source": []
  },
  {
   "cell_type": "markdown",
   "id": "cd35b66d",
   "metadata": {},
   "source": [
    "## 4.谈谈你对面向对象的理解"
   ]
  },
  {
   "cell_type": "code",
   "execution_count": null,
   "id": "3dbc2084",
   "metadata": {},
   "outputs": [],
   "source": []
  },
  {
   "cell_type": "markdown",
   "id": "a9ba0ae5",
   "metadata": {},
   "source": [
    "## 5.基础数据类型有哪些"
   ]
  },
  {
   "cell_type": "code",
   "execution_count": null,
   "id": "75e091c6",
   "metadata": {},
   "outputs": [],
   "source": []
  },
  {
   "cell_type": "markdown",
   "id": "e90c7c39",
   "metadata": {},
   "source": [
    "## 6.什么是RPA"
   ]
  },
  {
   "cell_type": "code",
   "execution_count": null,
   "id": "2c22b00d",
   "metadata": {},
   "outputs": [],
   "source": []
  },
  {
   "cell_type": "markdown",
   "id": "f058314a",
   "metadata": {},
   "source": [
    "# 二丶代码逻辑"
   ]
  },
  {
   "cell_type": "markdown",
   "id": "b281ee70",
   "metadata": {},
   "source": [
    "## 1.求结果并且给出结论"
   ]
  },
  {
   "cell_type": "code",
   "execution_count": null,
   "id": "0ceb6e4b",
   "metadata": {},
   "outputs": [],
   "source": [
    "1. 求结果：1 or 3\n",
    "\n",
    "\n",
    "2. 求结果：1 and 3\n",
    "\n",
    "\n",
    "3. 求结果：0 and 2 and 1\n",
    "\n",
    "\n",
    "4. 求结果：0 and 2 or 1\n",
    "\n",
    "5. 求结果：0 and 2 or 1 or 4\n",
    "\n",
    "\n",
    "6. 求结果：0 or False and 1\n",
    "\n",
    "\n",
    "\n",
    "结论："
   ]
  },
  {
   "cell_type": "markdown",
   "id": "cc5e6571",
   "metadata": {},
   "source": [
    "## 2.三元运算的写法和应用场景"
   ]
  },
  {
   "cell_type": "code",
   "execution_count": null,
   "id": "fff82e7a",
   "metadata": {},
   "outputs": [],
   "source": []
  },
  {
   "cell_type": "markdown",
   "id": "47bdb444",
   "metadata": {},
   "source": [
    "## 3.\t一行代码实现数值交换"
   ]
  },
  {
   "cell_type": "code",
   "execution_count": null,
   "id": "de807dad",
   "metadata": {},
   "outputs": [],
   "source": []
  },
  {
   "cell_type": "markdown",
   "id": "57812452",
   "metadata": {},
   "source": [
    "## 4.打印99乘法表，并解释原理"
   ]
  },
  {
   "cell_type": "code",
   "execution_count": 1,
   "id": "346c6897",
   "metadata": {},
   "outputs": [],
   "source": []
  },
  {
   "cell_type": "markdown",
   "id": "2b08080e",
   "metadata": {},
   "source": [
    "## 5. 字符串，列表，字典常用的5种方法"
   ]
  },
  {
   "cell_type": "code",
   "execution_count": null,
   "id": "0137c6d6",
   "metadata": {},
   "outputs": [],
   "source": []
  },
  {
   "cell_type": "markdown",
   "id": "baaa36e7",
   "metadata": {},
   "source": [
    "## 6.现有两个元组(('a'),('b')),(('c'),('d'))，请使用python匿名函数生成列表[{'a':'c'},{'b':'d'}]"
   ]
  },
  {
   "cell_type": "code",
   "execution_count": null,
   "id": "0f1d7063",
   "metadata": {},
   "outputs": [],
   "source": []
  },
  {
   "cell_type": "markdown",
   "id": "a1896403",
   "metadata": {},
   "source": [
    "## 7.求V的结果"
   ]
  },
  {
   "cell_type": "code",
   "execution_count": null,
   "id": "39808491",
   "metadata": {},
   "outputs": [],
   "source": [
    "v = dict.fromkeys(['k1', 'k2'], [])\n",
    "v['k1'].append(666)\n",
    "v:\n",
    "结果：\n",
    "\n",
    "\n",
    "解释：\n",
    "\n",
    "\n",
    "v1 = dict.fromkeys(['k1', 'k2'])\n",
    "v1: \n",
    " \n",
    "v2 = dict.fromkeys(['k1', 'k2'], [])\n",
    "v2:"
   ]
  },
  {
   "cell_type": "markdown",
   "id": "c3bd59e5",
   "metadata": {},
   "source": [
    "## 8.常见内置函数"
   ]
  },
  {
   "cell_type": "code",
   "execution_count": null,
   "id": "e5ca8412",
   "metadata": {},
   "outputs": [],
   "source": []
  },
  {
   "cell_type": "markdown",
   "id": "c6cccdf9",
   "metadata": {},
   "source": [
    "## 9.实现 \"1, 2, 3\" 变成 ['1', '2', '3']"
   ]
  },
  {
   "cell_type": "code",
   "execution_count": null,
   "id": "ca3a82a7",
   "metadata": {},
   "outputs": [],
   "source": []
  },
  {
   "cell_type": "markdown",
   "id": "daffe208",
   "metadata": {},
   "source": [
    "## 10.如何实现[‘1’,’2’,’3’]变成[1,2,3]"
   ]
  },
  {
   "cell_type": "code",
   "execution_count": null,
   "id": "b3ec16e2",
   "metadata": {},
   "outputs": [],
   "source": []
  },
  {
   "cell_type": "markdown",
   "id": "96600763",
   "metadata": {},
   "source": [
    "## 11.删除列表重复值 [1, 2, 3, 4, 45, 1, 2, 343, 2, 2]"
   ]
  },
  {
   "cell_type": "code",
   "execution_count": null,
   "id": "4a844b18",
   "metadata": {},
   "outputs": [],
   "source": []
  },
  {
   "cell_type": "markdown",
   "id": "f7a05cec",
   "metadata": {},
   "source": [
    "## 12.请用代码简答实现stack"
   ]
  },
  {
   "cell_type": "code",
   "execution_count": null,
   "id": "2bf533dd",
   "metadata": {},
   "outputs": [],
   "source": [
    "# 实现一个栈stack,后进先出\n",
    "# Stack() 创建一个新的空栈\n",
    "# push(item) 添加一个新的元素item到栈顶\n",
    "# pop() 弹出栈顶元素\n",
    "# peek() 返回栈顶元素\n",
    "# is_empty() 判断栈是否为空\n",
    "# size() 返回栈的元素个数\n",
    "\n"
   ]
  },
  {
   "cell_type": "markdown",
   "id": "b0fa3c56",
   "metadata": {},
   "source": [
    "## 13.格式化字符串的方法"
   ]
  },
  {
   "cell_type": "code",
   "execution_count": null,
   "id": "17ce6dac",
   "metadata": {},
   "outputs": [],
   "source": []
  },
  {
   "cell_type": "markdown",
   "id": "90f3deec",
   "metadata": {},
   "source": [
    "## 14.写一个二分查找，并且解释原理"
   ]
  },
  {
   "cell_type": "code",
   "execution_count": 4,
   "id": "312b86e5",
   "metadata": {},
   "outputs": [],
   "source": [
    "li = [1, 2, 3, 4, 5, 6, 7, 8, 9, 10]\n",
    "\n",
    "#原理;\n",
    "#优点：\n",
    "#缺点："
   ]
  },
  {
   "cell_type": "markdown",
   "id": "60b75f8a",
   "metadata": {},
   "source": [
    "## 15.os和sys模块的作用？"
   ]
  },
  {
   "cell_type": "code",
   "execution_count": null,
   "id": "d61be61b",
   "metadata": {},
   "outputs": [],
   "source": []
  },
  {
   "cell_type": "markdown",
   "id": "64f39367",
   "metadata": {},
   "source": [
    "## 16.try异常使用场景和方法"
   ]
  },
  {
   "cell_type": "code",
   "execution_count": null,
   "id": "7969d23d",
   "metadata": {},
   "outputs": [],
   "source": []
  },
  {
   "cell_type": "markdown",
   "id": "6a77541d",
   "metadata": {},
   "source": [
    "# 三丶机试题"
   ]
  },
  {
   "cell_type": "markdown",
   "id": "269d5ce1",
   "metadata": {},
   "source": [
    "## 1.发票查验"
   ]
  },
  {
   "cell_type": "code",
   "execution_count": null,
   "id": "dacdb765",
   "metadata": {},
   "outputs": [],
   "source": [
    "#现有一批发票需要提取出发票信息并且生成台账\n",
    "#提示 1.使用百度API的OCR识别的发票识别接口进行识别\n",
    "#     https://ai.baidu.com/tech/ocr_receipts/vat_invoice\n",
    "#     2. 使用os模块读取发票路径\n",
    "#     3.使用pandas生成台账\n",
    "#提供代码和结果"
   ]
  },
  {
   "cell_type": "code",
   "execution_count": null,
   "id": "4aa5b7b3",
   "metadata": {},
   "outputs": [],
   "source": []
  },
  {
   "cell_type": "markdown",
   "id": "0b33e631",
   "metadata": {},
   "source": [
    "## 2. 每日快报"
   ]
  },
  {
   "cell_type": "code",
   "execution_count": 1,
   "id": "7ecf7935",
   "metadata": {},
   "outputs": [],
   "source": [
    "# 把每日日报原版.xls生成每日日报结果.xlsx\n",
    "#1.添加标题行，2.添加时间，单位：万元 ，3.合计标色，4.添加备注，5.修改excel文件名添加后缀时间\n",
    "#提供代码和结果\n",
    "#提示：可以使用模块xlwings"
   ]
  },
  {
   "cell_type": "code",
   "execution_count": null,
   "id": "2bb2895d",
   "metadata": {},
   "outputs": [],
   "source": []
  }
 ],
 "metadata": {
  "kernelspec": {
   "display_name": "Python 3 (ipykernel)",
   "language": "python",
   "name": "python3"
  },
  "language_info": {
   "codemirror_mode": {
    "name": "ipython",
    "version": 3
   },
   "file_extension": ".py",
   "mimetype": "text/x-python",
   "name": "python",
   "nbconvert_exporter": "python",
   "pygments_lexer": "ipython3",
   "version": "3.7.2"
  }
 },
 "nbformat": 4,
 "nbformat_minor": 5
}
