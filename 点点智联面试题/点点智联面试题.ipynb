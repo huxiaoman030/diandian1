{
 "cells": [
  {
   "cell_type": "markdown",
   "id": "b560cfe2",
   "metadata": {},
   "source": [
    "# 一丶概念论述"
   ]
  },
  {
   "cell_type": "markdown",
   "id": "a3278f97",
   "metadata": {},
   "source": [
    "## 1.什么是python？平时在哪里学习python?"
   ]
  },
  {
   "cell_type": "code",
   "execution_count": null,
   "id": "559079b2",
   "metadata": {},
   "outputs": [],
   "source": ["python是一种编程语言，主要用于人工智能、爬虫等领域。我是在学校的实习培训中学习的python，平时也会去菜鸟等网站上学习python的用法。"]
  },
  {
   "cell_type": "markdown",
   "id": "040f4c30",
   "metadata": {},
   "source": [
    "## 2.PEP8规范"
   ]
  },
  {
   "cell_type": "code",
   "execution_count": null,
   "id": "18b17871",
   "metadata": {},
   "outputs": [],
   "source": ["PEP8规范是一个关于python语言的规范，用于使代码更加清晰整齐，方便不同工作人员之间进行代码的交接。"]
  },
  {
   "cell_type": "markdown",
   "id": "d951cfb8",
   "metadata": {},
   "source": [
    "## 3.Ascii,Unicode,utf-8,gbk区别"
   ]
  },
  {
   "cell_type": "code",
   "execution_count": null,
   "id": "4a0802d3",
   "metadata": {},
   "outputs": [],
   "source": ["Ascii用一个比特表示字母和字符，Unicode用两个比特表示一个字符，utf-8用一个字节表示一个字母，三个字节表示一个汉字，gbk用两个字节表示一个汉字。"]
  },
  {
   "cell_type": "markdown",
   "id": "cd35b66d",
   "metadata": {},
   "source": [
    "## 4.谈谈你对面向对象的理解"
   ]
  },
  {
   "cell_type": "code",
   "execution_count": null,
   "id": "3dbc2084",
   "metadata": {},
   "outputs": [],
   "source": ["面向对象就是把一写代码整合起来，形成一个类似黑盒的东西，接受外部输入后进行输出，其中的代码运行过程对外部不可见。"]
  },
  {
   "cell_type": "markdown",
   "id": "a9ba0ae5",
   "metadata": {},
   "source": [
    "## 5.基础数据类型有哪些"
   ]
  },
  {
   "cell_type": "code",
   "execution_count": null,
   "id": "75e091c6",
   "metadata": {},
   "outputs": [],
   "source": ["比较常用的基础数据类型有线性表、队列、栈、树、图"]
  },
  {
   "cell_type": "markdown",
   "id": "e90c7c39",
   "metadata": {},
   "source": [
    "## 6.什么是RPA"
   ]
  },
  {
   "cell_type": "code",
   "execution_count": null,
   "id": "2c22b00d",
   "metadata": {},
   "outputs": [],
   "source": ["RPA是一种类似人工智能的算法，模拟人在电脑上的操作，使原本人在终端上重复性比较强的工作可以自动进行。"]
  },
  {
   "cell_type": "markdown",
   "id": "f058314a",
   "metadata": {},
   "source": [
    "# 二丶代码逻辑"
   ]
  },
  {
   "cell_type": "markdown",
   "id": "b281ee70",
   "metadata": {},
   "source": [
    "## 1.求结果并且给出结论"
   ]
  },
  {
   "cell_type": "code",
   "execution_count": null,
   "id": "0ceb6e4b",
   "metadata": {},
   "outputs": [],
   "source": [
    "1. 求结果：1 or 3\n",
    "\n",
    "\n",
    "2. 求结果：1 and 3\n",
    "\n",
    "\n",
    "3. 求结果：0 and 2 and 1\n",
    "\n",
    "\n",
    "4. 求结果：0 and 2 or 1\n",
    "\n",
    "5. 求结果：0 and 2 or 1 or 4\n",
    "\n",
    "\n",
    "6. 求结果：0 or False and 1\n",
    "\n",
    "\n",
    "\n",
    "结论：",
    "1、1\n",
    "2、3\n",
    "3、0\n",
    "4、3\n",
    "5、1\n",
    "6、False"
   ]
  },
  {
   "cell_type": "markdown",
   "id": "cc5e6571",
   "metadata": {},
   "source": [
    "## 2.三元运算的写法和应用场景"
   ]
  },
  {
   "cell_type": "code",
   "execution_count": null,
   "id": "fff82e7a",
   "metadata": {},
   "outputs": [],
   "source": ["类似于a>b?a:b 的写法。用于一行代码实现原来需要用if语句进行先判断再赋值的场景。"]
  },
  {
   "cell_type": "markdown",
   "id": "47bdb444",
   "metadata": {},
   "source": [
    "## 3.\t一行代码实现数值交换"
   ]
  },
  {
   "cell_type": "code",
   "execution_count": null,
   "id": "de807dad",
   "metadata": {},
   "outputs": [],
   "source": ["a,b=b,a"]
  },
  {
   "cell_type": "markdown",
   "id": "57812452",
   "metadata": {},
   "source": [
    "## 4.打印99乘法表，并解释原理"
   ]
  },
  {
   "cell_type": "code",
   "execution_count": 1,
   "id": "346c6897",
   "metadata": {},
   "outputs": [],
   "source": [
   " for i in range(1, 10):\n",
   "    for j in range(1, i+1):\n",
   "       print(这里乘号会报错，所以无法输入,end = ' ') \n",
   "    print(\n)\n",
   "## 通过双循环控制每一个乘法式，通过end = ' '控制换行。\n"
   ]
  },
  {
   "cell_type": "markdown",
   "id": "2b08080e",
   "metadata": {},
   "source": [
    "## 5. 字符串，列表，字典常用的5种方法"
   ]
  },
  {
   "cell_type": "code",
   "execution_count": null,
   "id": "0137c6d6",
   "metadata": {},
   "outputs": [],
   "source": [
   "字符串：find找对应元素，length看长度，aplit分割字符串，upper和lower大小写转换，for i in str遍历/n",
    "列表：append添加，pop删除，clear清空/n",
    "字典：pop删除键值对，update更改键值，get取相应键的值/n"
   ]
  },
  {
   "cell_type": "markdown",
   "id": "baaa36e7",
   "metadata": {},
   "source": [
    "## 6.现有两个元组(('a'),('b')),(('c'),('d'))，请使用python匿名函数生成列表[{'a':'c'},{'b':'d'}]"
   ]
  },
  {
   "cell_type": "code",
   "execution_count": null,
   "id": "0f1d7063",
   "metadata": {},
   "outputs": [],
   "source": [
   "t1 = (('a'),('b'))\n",
   "t2 = (('c'),('d'))\n",
   "r = lambda t1,t2:[{i:j} for i,j in zip(t1,t2)]\n",
   "print(r(t1,t2))\n"
   ]
  },
  {
   "cell_type": "markdown",
   "id": "a1896403",
   "metadata": {},
   "source": [
    "## 7.求V的结果"
   ]
  },
  {
   "cell_type": "code",
   "execution_count": null,
   "id": "39808491",
   "metadata": {},
   "outputs": [],
   "source": [
    "v = dict.fromkeys(['k1', 'k2'], [])\n",
    "v['k1'].append(666)\n",
    "v:\n",
    "结果：\n",
    "{'k1': [666], 'k2': [666]}\n",
    "\n",
    "解释：\n",
    "字典中使用append每个值都会改变\n",
    "\n",
    "v1 = dict.fromkeys(['k1', 'k2'])\n",
    "v1: {'k1': None, 'k2': None}\n",
    " \n",
    "v2 = dict.fromkeys(['k1', 'k2'], [])\n",
    "v2:{'k1': [], 'k2': []}"
   ]
  },
  {
   "cell_type": "markdown",
   "id": "c3bd59e5",
   "metadata": {},
   "source": [
    "## 8.常见内置函数"
   ]
  },
  {
   "cell_type": "code",
   "execution_count": null,
   "id": "e5ca8412",
   "metadata": {},
   "outputs": [],
   "source": ["abs求绝对值"]
  },
  {
   "cell_type": "markdown",
   "id": "c6cccdf9",
   "metadata": {},
   "source": [
    "## 9.实现 \"1, 2, 3\" 变成 ['1', '2', '3']"
   ]
  },
  {
   "cell_type": "code",
   "execution_count": null,
   "id": "ca3a82a7",
   "metadata": {},
   "outputs": [],
   "source": [
   "a = '1,2,3'\n",
   "b = []\n",
   "for i in a:\n",
   "    b.append(i)\n",
  "print(b)\n"
   ]
  },
  {
   "cell_type": "markdown",
   "id": "daffe208",
   "metadata": {},
   "source": [
    "## 10.如何实现[‘1’,’2’,’3’]变成[1,2,3]"
   ]
  },
  {
   "cell_type": "code",
   "execution_count": null,
   "id": "b3ec16e2",
   "metadata": {},
   "outputs": [],
   "source": ["设置一个循环，用int()函数转换字符类型"]
  },
  {
   "cell_type": "markdown",
   "id": "96600763",
   "metadata": {},
   "source": [
    "## 11.删除列表重复值 [1, 2, 3, 4, 45, 1, 2, 343, 2, 2]"
   ]
  },
  {
   "cell_type": "code",
   "execution_count": null,
   "id": "4a844b18",
   "metadata": {},
   "outputs": [],
   "source": [
   "a = [1, 2, 3, 4, 45, 1, 2, 343, 2, 2]\n",
   "b = [0]*999\n",
   "for i in a:\n",
   "   if b[i] != 1:\n",
   "      b[i] = 1\n",
   "c = []\n",
   "for i in range(1000):\n",
   "   if b[i]==1\n",
   "      c.append[i]\n",
   " return c\n"
   ]
  },
  {
   "cell_type": "markdown",
   "id": "f7a05cec",
   "metadata": {},
   "source": [
    "## 12.请用代码简答实现stack"
   ]
  },
  {
   "cell_type": "code",
   "execution_count": null,
   "id": "2bf533dd",
   "metadata": {},
   "outputs": [],
   "source": [
    "# 实现一个栈stack,后进先出\n",
    "# Stack() 创建一个新的空栈\n",
    "# push(item) 添加一个新的元素item到栈顶\n",
    "# pop() 弹出栈顶元素\n",
    "# peek() 返回栈顶元素\n",
    "# is_empty() 判断栈是否为空\n",
    "# size() 返回栈的元素个数\n",
    "\n",
    "classStack(object):\n",
    "def __init__(self):\n",
    "self.items = []\n",
    "\n",
    "def push(self,item):\n",
    "self.items.append(item)\n",
    "\n",
    "def pop(self):\n",
    "self.items.pop()\n",
    "\n",
    "def peek(self):\n",
    "return self.items[len(self.items)-1]\n",
    "\n",
    "def in_empty(self):\n",
    "if self.items == []:\n",
    "   return True\n",
    "else:\n",
    "   return Flase\n",
    "\n",
    "def size(self):\n",
    "return len(self.items)\n"
   ]
  },
  {
   "cell_type": "markdown",
   "id": "b0fa3c56",
   "metadata": {},
   "source": [
    "## 13.格式化字符串的方法"
   ]
  },
  {
   "cell_type": "code",
   "execution_count": null,
   "id": "17ce6dac",
   "metadata": {},
   "outputs": [],
   "source": []
  },
  {
   "cell_type": "markdown",
   "id": "90f3deec",
   "metadata": {},
   "source": [
    "## 14.写一个二分查找，并且解释原理"
   ]
  },
  {
   "cell_type": "code",
   "execution_count": 4,
   "id": "312b86e5",
   "metadata": {},
   "outputs": [],
   "source": [
    "li = [1, 2, 3, 4, 5, 6, 7, 8, 9, 10]\n",
    "low = 0\n",
    "high = len(li)-1\n",
    "num = 1 #目标值\n",
    "while high > low\n",
    "   mid = (low + high)/2\n",
    "   if li[mid] < num:\n",
    "      low = mid + 1\n",
    "   elif li[mid] > num:\n",
    "      high = mid -1\n",
    "   elid li[mid] == num\n",
    "      print('True')\n",
    "      break\n",
    "\n",
    "\n",
    "#原理:通过将目标值与中间值比较，确定待寻找数在左还是在右，并对左、右再进行一次二分;\n",
    "#优点：代码容易实现\n",
    "#缺点：时间复杂度高"
   ]
  },
  {
   "cell_type": "markdown",
   "id": "60b75f8a",
   "metadata": {},
   "source": [
    "## 15.os和sys模块的作用？"
   ]
  },
  {
   "cell_type": "code",
   "execution_count": null,
   "id": "d61be61b",
   "metadata": {},
   "outputs": [],
   "source": ["os和sys是python的函数库，提供了许多函数共编程人员使用"]
  },
  {
   "cell_type": "markdown",
   "id": "64f39367",
   "metadata": {},
   "source": [
    "## 16.try异常使用场景和方法"
   ]
  },
  {
   "cell_type": "code",
   "execution_count": null,
   "id": "7969d23d",
   "metadata": {},
   "outputs": [],
   "source": []
  },
  {
   "cell_type": "markdown",
   "id": "6a77541d",
   "metadata": {},
   "source": [
    "# 三丶机试题"
   ]
  },
  {
   "cell_type": "markdown",
   "id": "269d5ce1",
   "metadata": {},
   "source": [
    "## 1.发票查验"
   ]
  },
  {
   "cell_type": "code",
   "execution_count": null,
   "id": "dacdb765",
   "metadata": {},
   "outputs": [],
   "source": [
    "#现有一批发票需要提取出发票信息并且生成台账\n",
    "#提示 1.使用百度API的OCR识别的发票识别接口进行识别\n",
    "#     https://ai.baidu.com/tech/ocr_receipts/vat_invoice\n",
    "#     2. 使用os模块读取发票路径\n",
    "#     3.使用pandas生成台账\n",
    "#提供代码和结果"
   ]
  },
  {
   "cell_type": "code",
   "execution_count": null,
   "id": "4aa5b7b3",
   "metadata": {},
   "outputs": [],
   "source": ["在之前的编程中我很少接触这方面的知识，在今后的工作中我会加紧学习此方面知识。"]
  },
  {
   "cell_type": "markdown",
   "id": "0b33e631",
   "metadata": {},
   "source": [
    "## 2. 每日快报"
   ]
  },
  {
   "cell_type": "code",
   "execution_count": 1,
   "id": "7ecf7935",
   "metadata": {},
   "outputs": [],
   "source": [
    "# 把每日日报原版.xls生成每日日报结果.xlsx\n",
    "#1.添加标题行，2.添加时间，单位：万元 ，3.合计标色，4.添加备注，5.修改excel文件名添加后缀时间\n",
    "#提供代码和结果\n",
    "#提示：可以使用模块xlwings"
   ]
  },
  {
   "cell_type": "code",
   "execution_count": null,
   "id": "2bb2895d",
   "metadata": {},
   "outputs": [],
   "source": [
   "import xlwings as xw\n",
   "app = xw.App()\n",
   "w = xw.Book('..\每日快报\每日快报原版.xls')\n",
   "sheet = w.sheets[0]\n",
   "sheet.api.Rows(1).Insert()\n",
   "sheet.range('A1:F1').value = '年金组合投管资金到账规模统计  截至2021.06.07   单位：万元'\n",
   "sheet.range('A16:F19').value = '备注：1）年金组合投管资金到账规模仅为资金分配金额，不考虑资金提取金额；2）年金总规模为投资组合T日净资产规模，包含本日新增到账金额，但估值行情接收尚不全，仅供参考；3）当日统计数据以晚间日终清算时间截止，不包含之后到账资金数据'\n",
   "w.save(每日日报结果.xlsx')\n"
 
   ]
  }
 ],
 "metadata": {
  "kernelspec": {
   "display_name": "Python 3 (ipykernel)",
   "language": "python",
   "name": "python3"
  },
  "language_info": {
   "codemirror_mode": {
    "name": "ipython",
    "version": 3
   },
   "file_extension": ".py",
   "mimetype": "text/x-python",
   "name": "python",
   "nbconvert_exporter": "python",
   "pygments_lexer": "ipython3",
   "version": "3.7.2"
  }
 },
 "nbformat": 4,
 "nbformat_minor": 5
}
